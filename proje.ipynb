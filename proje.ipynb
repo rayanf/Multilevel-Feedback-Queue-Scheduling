{
 "cells": [
  {
   "cell_type": "code",
   "execution_count": 53,
   "metadata": {},
   "outputs": [],
   "source": [
    "import numpy as np\n",
    "import pandas as pd\n",
    "import matplotlib.pyplot as plt\n",
    "import math\n",
    "import random\n"
   ]
  },
  {
   "cell_type": "code",
   "execution_count": null,
   "metadata": {},
   "outputs": [],
   "source": [
    "class Process:\n",
    "    def __init__(self,name,arrival_time,burst_time,priority=0):\n",
    "        self.name=name\n",
    "        self.arrival_time=arrival_time\n",
    "        self.burst_time=burst_time\n",
    "        self.priority=priority\n",
    "        self.remaining_time=burst_time\n",
    "        self.start_time=0\n",
    "        self.end_time=0\n",
    "        self.waiting_time=0\n",
    "        self.turnaround_time=0\n",
    "        self.is_completed=False\n",
    "        self.is_started = False\n",
    "    \n",
    "    def complete(self,t):\n",
    "        self.end_time=t\n",
    "        self.turnaround_time=self.end_time-self.arrival_time\n",
    "        self.waiting_time=self.turnaround_time-self.burst_time\n",
    "        self.is_completed=True\n",
    "    \n",
    "class Queue:\n",
    "    def __init__(self,MLFQ,max_burst_time,priority):\n",
    "        self.max_burst_time = max_burst_time\n",
    "        self.priority = priority\n",
    "        self.processes = []\n",
    "        self.next_queue = None        \n",
    "        self.last_queue = None\n",
    "        self.is_completed = True\n",
    "        self.MLFQ = MLFQ\n",
    "        self.last = False\n",
    "\n",
    "    def add_process(self,process):\n",
    "        self.processes.append(process)\n",
    "        self.is_completed = False\n",
    "\n",
    "    def remove_process(self):\n",
    "        self.processes.pop(0)\n",
    "        if len(self.processes) == 0:\n",
    "            self.is_completed = True\n",
    "        \n",
    "    def get_process(self):\n",
    "        return self.processes[0]\n",
    "\n",
    "    def complete_process(self):\n",
    "        \n",
    "\n",
    "    def run(self,t):\n",
    "        for i in range(t):\n",
    "            process = self.get_process()\n",
    "            if not process.is_started:\n",
    "                process.start_time = self.MLFQ.time\n",
    "                process.is_started = True\n",
    "\n",
    "            if self.last:\n",
    "                while process.remaining_time > 0:\n",
    "                    self.MLFQ.time += 1\n",
    "                    process.remaining_time -= 1\n",
    "                    process.complete(self.MLFQ.time)\n",
    "                    self.MLFQ.complete_process.append(process)\n",
    "                    self.remove_process()\n",
    "                    break\n",
    "            else:\n",
    "                for _ in range(self.max_burst_time):\n",
    "                    self.MLFQ.time += 1\n",
    "                    if self.is_completed:\n",
    "                        return\n",
    "                    process.remaining_time -= 1\n",
    "                    if process.remaining_time == 0:\n",
    "                        process.complete(self.MLFQ.time)\n",
    "                        self.MLFQ.complete_process.append(process)\n",
    "                        self.remove_process()\n",
    "                        break\n",
    "                if process.remaining_time > 0:\n",
    "                    self.next_queue.add_process(process)\n",
    "                    self.remove_process()\n",
    "\n",
    "\n",
    "class MLFQ:                         #Multilevel Feedback Queue Scheduling\n",
    "    def __init__(self,queues,processes,end):\n",
    "        self.init_processes(processes)\n",
    "        self.init_queues(queues)\n",
    "        self.time = 0\n",
    "        self.complete_processes = []\n",
    "        self.end = end\n",
    "\n",
    "    def init_queues(self,queues):\n",
    "        self.queues = []\n",
    "        for q in queues:\n",
    "            self.add_queue(Queue(self,q,0))\n",
    "\n",
    "    def add_queue(self,queue):\n",
    "        if len(self.queues) == 0:\n",
    "            self.queues.append(queue)\n",
    "            self.queues[0].last = True\n",
    "        else:\n",
    "            self.queues.append(queue)\n",
    "            self.queues[-1].last = True\n",
    "            self.queues[-2].last = False\n",
    "            self.queues[-2].next_queue = queue\n",
    "\n",
    "    def init_processes(self,processes):\n",
    "        self.processes = []\n",
    "        for p in range(len(processes)):\n",
    "            process = Process(p, processes[p][0],processes[p][1],0)\n",
    "            self.processes.append(process)\n",
    "\n",
    "    def check_processes(self):\n",
    "        if self.time == self.processes[0].arrival_time:\n",
    "            self.queues[0].add_process(self.processes[0])\n",
    "            self.processes.pop(0)\n",
    "\n",
    "    def check_higher_priority_queue(self):\n",
    "        for queue in self.queues:\n",
    "            if len(queue.processes) > 0:\n",
    "                return queue\n",
    "            else:\n",
    "                return None\n",
    "\n",
    "    def run(self):\n",
    "        self.current_queue = self.queues[0]\n",
    "        self.current_process = None\n",
    "        self.cpu_state = 'free'\n",
    "        while self.time <= self.end:\n",
    "            self.check_processes()\n",
    "            if self.cpu_state == 'free':\n",
    "                self.current_queue = self.get_highest_priority_queue()\n",
    "                if self.current_queue is not None:\n",
    "                    self.cpu_state = 'busy'\n",
    "                    tuen_time = 0\n",
    "                    while tuen_time <= self.current_queue.max_burst_time:\n",
    "                        self.current_process = self.current_queue.get_process()\n",
    "                        self.current_process.remaining_time -= 1\n",
    "                    \n",
    "                        self.time += 1\n",
    "                        if self.current_process.remaining_time == 0:\n",
    "                            self.current_queue.complete_process()\n",
    "\n",
    "def generate_process(start,end,number_of_processes,max_burst_time):    \n",
    "    arrival_times = np.asarray(random.sample(range(start,end),number_of_processes))\n",
    "    burst_times = np.asarray(random.sample(range(1,max_burst_time),number_of_processes))\n",
    "    arrival_times = np.sort(arrival_times)\n",
    "    process =  np.array(list((zip(arrival_times,burst_times)))).reshape(number_of_processes,2)\n",
    "    return process\n",
    "    \n",
    "\n",
    "\n",
    "def main(start,end,number_of_processes,max_burst_time):\n",
    "    processes = generate_process(start,end,number_of_processes,max_burst_time)\n",
    "    mlfq = MLFQ([4,8,16],processes,end+max_burst_time)\n",
    "\n"
   ]
  },
  {
   "cell_type": "code",
   "execution_count": 3,
   "metadata": {},
   "outputs": [
    {
     "data": {
      "text/plain": [
       "array([ 38,  46, 206, 250, 716, 726, 826, 847, 864, 872])"
      ]
     },
     "execution_count": 3,
     "metadata": {},
     "output_type": "execute_result"
    }
   ],
   "source": [
    "import random\n",
    "import numpy as np\n",
    "np.sort(random.sample(range(0, 1000), 10))"
   ]
  },
  {
   "cell_type": "code",
   "execution_count": 14,
   "metadata": {},
   "outputs": [
    {
     "data": {
      "text/plain": [
       "array([876,  43, 783, 644, 107, 215, 808, 796, 724,  94])"
      ]
     },
     "execution_count": 14,
     "metadata": {},
     "output_type": "execute_result"
    }
   ],
   "source": [
    "a = np.asarray(random.sample(range(0, 1000), 10))\n",
    "b = np.asarray(random.sample(range(0, 1000), 10))\n",
    "a\n"
   ]
  },
  {
   "cell_type": "code",
   "execution_count": 22,
   "metadata": {},
   "outputs": [
    {
     "data": {
      "text/plain": [
       "array([[876,  43, 783, 644, 107, 215, 808, 796, 724,  94],\n",
       "       [613, 789, 367, 158, 816, 512, 621, 124, 535, 141]])"
      ]
     },
     "execution_count": 22,
     "metadata": {},
     "output_type": "execute_result"
    }
   ],
   "source": [
    "c = np.concatenate((a,b))\n",
    "c.reshape(2,-1)"
   ]
  },
  {
   "cell_type": "code",
   "execution_count": 56,
   "metadata": {},
   "outputs": [
    {
     "data": {
      "text/plain": [
       "array([[876, 613],\n",
       "       [ 43, 789],\n",
       "       [783, 367],\n",
       "       [644, 158],\n",
       "       [107, 816],\n",
       "       [215, 512],\n",
       "       [808, 621],\n",
       "       [796, 124],\n",
       "       [724, 535],\n",
       "       [ 94, 141]])"
      ]
     },
     "execution_count": 56,
     "metadata": {},
     "output_type": "execute_result"
    }
   ],
   "source": [
    "np.array(list((zip(a,b)))).reshape(10,2)"
   ]
  },
  {
   "cell_type": "code",
   "execution_count": null,
   "metadata": {},
   "outputs": [],
   "source": []
  },
  {
   "cell_type": "code",
   "execution_count": null,
   "metadata": {},
   "outputs": [],
   "source": []
  }
 ],
 "metadata": {
  "interpreter": {
   "hash": "11d3bd20429a4cafdb71048f8d9cde4b2716489c3470a040b292c35dacb90f87"
  },
  "kernelspec": {
   "display_name": "Python 3.8.6 64-bit",
   "language": "python",
   "name": "python3"
  },
  "language_info": {
   "codemirror_mode": {
    "name": "ipython",
    "version": 3
   },
   "file_extension": ".py",
   "mimetype": "text/x-python",
   "name": "python",
   "nbconvert_exporter": "python",
   "pygments_lexer": "ipython3",
   "version": "3.8.6"
  },
  "orig_nbformat": 4
 },
 "nbformat": 4,
 "nbformat_minor": 2
}
